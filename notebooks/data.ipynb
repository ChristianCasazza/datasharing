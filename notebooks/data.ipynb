{
 "cells": [
  {
   "cell_type": "code",
   "execution_count": 1,
   "metadata": {},
   "outputs": [],
   "source": [
    "#Set your Imports\n",
    "import os\n",
    "import sys\n",
    "from dotenv import load_dotenv\n",
    "\n",
    "# Load environment variables from the .env file\n",
    "load_dotenv()\n",
    "\n",
    "# Add the project root to sys.path\n",
    "notebook_dir = os.path.dirname(os.path.abspath('data.ipynb'))\n",
    "project_root = os.path.abspath(os.path.join(notebook_dir, '..'))\n",
    "if project_root not in sys.path:\n",
    "    sys.path.append(project_root)\n",
    "\n",
    "from datasharing.datasharing import DataSharingClient"
   ]
  },
  {
   "cell_type": "code",
   "execution_count": null,
   "metadata": {},
   "outputs": [],
   "source": [
    "#Connect to datasharing client\n",
    "duckdbpath=\"path/to/file/nameofyourduckdbfile.duckdb\"\n",
    "client = DataSharingClient(duckdb_path=duckdbpath)\n",
    "#client = DataSharingClient(duckdb_path=duckdbpath,duckdb_region='us-east-1') Uncomment if cloest to us=east-1"
   ]
  },
  {
   "cell_type": "code",
   "execution_count": null,
   "metadata": {},
   "outputs": [],
   "source": [
    "#Connect to dataset\n",
    "#s3_uri = \"s3://oceandatachallengebucket/public/francetax.parquet\" Uncomment this for us-east-1\n",
    "s3_uri = \"s3://oceandatachallenges/public/francetax.parquet\"\n",
    "view_name = \"francetax\"\n",
    "client.create_view(s3_uri, view_name)"
   ]
  },
  {
   "cell_type": "code",
   "execution_count": null,
   "metadata": {},
   "outputs": [],
   "source": [
    "#Query a view or table and return a pandas dataframe\n",
    "query = \"SELECT COUNT(*) FROM francetax;\"\n",
    "result_df = client.query(query)\n",
    "print(result_df)"
   ]
  },
  {
   "cell_type": "code",
   "execution_count": null,
   "metadata": {},
   "outputs": [],
   "source": [
    "# View all tables and views in duckdb\n",
    "tables = client.list_tables()\n",
    "print(tables)"
   ]
  },
  {
   "cell_type": "code",
   "execution_count": null,
   "metadata": {},
   "outputs": [],
   "source": [
    "# Query a view or table and create a duckdb table\n",
    "query = \"SELECT COUNT(*) FROM francetax;\"\n",
    "new_table_name = \"francerowcount\"\n",
    "\n",
    "# Create a new table from the query\n",
    "client.query(query, new_table_name)"
   ]
  },
  {
   "cell_type": "code",
   "execution_count": null,
   "metadata": {},
   "outputs": [],
   "source": [
    "#Export a duckdb table as csv or parquet\n",
    "table_names = [\"francerowcount\"]\n",
    "output_dir = \"/home/christianocean/datasharing/data\"\n",
    "\n",
    "# Export the tables to CSV format\n",
    "client.export_tables(table_names, output_dir, \"csv\")#parquet for parquet export"
   ]
  }
 ],
 "metadata": {
  "kernelspec": {
   "display_name": ".venv",
   "language": "python",
   "name": "python3"
  },
  "language_info": {
   "codemirror_mode": {
    "name": "ipython",
    "version": 3
   },
   "file_extension": ".py",
   "mimetype": "text/x-python",
   "name": "python",
   "nbconvert_exporter": "python",
   "pygments_lexer": "ipython3",
   "version": "3.10.12"
  }
 },
 "nbformat": 4,
 "nbformat_minor": 2
}
