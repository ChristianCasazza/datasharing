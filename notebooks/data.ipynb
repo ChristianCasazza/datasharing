{
 "cells": [
  {
   "cell_type": "code",
   "execution_count": null,
   "metadata": {},
   "outputs": [],
   "source": [
    "#Set your Imports\n",
    "import os\n",
    "import sys\n",
    "from dotenv import load_dotenv\n",
    "\n",
    "# Load environment variables from the .env file\n",
    "load_dotenv()\n",
    "\n",
    "# Add the project root to sys.path\n",
    "notebook_dir = os.path.dirname(os.path.abspath('data.ipynb'))\n",
    "project_root = os.path.abspath(os.path.join(notebook_dir, '..'))\n",
    "if project_root not in sys.path:\n",
    "    sys.path.append(project_root)\n",
    "\n",
    "from datasharing.datasharing import DataSharingClient"
   ]
  },
  {
   "cell_type": "code",
   "execution_count": null,
   "metadata": {},
   "outputs": [],
   "source": [
    "#Connect to datasharing client\n",
    "\n",
    "client = DataSharingClient()\n"
   ]
  },
  {
   "cell_type": "code",
   "execution_count": null,
   "metadata": {},
   "outputs": [],
   "source": [
    "#Connect to dataset\n",
    "s3_uri = \"s3://oceandatachallengebucket/public/francetax.parquet\"\n",
    "view_name = \"francetax\"\n",
    "client.create_view(s3_uri, view_name)"
   ]
  },
  {
   "cell_type": "code",
   "execution_count": null,
   "metadata": {},
   "outputs": [],
   "source": [
    "#Query a view or table and return a pandas dataframe\n",
    "query = \"SELECT COUNT(*) FROM francetax;\"\n",
    "result_df = client.query(query)\n",
    "print(result_df)"
   ]
  },
  {
   "cell_type": "code",
   "execution_count": null,
   "metadata": {},
   "outputs": [],
   "source": [
    "#Query a view or table and return a pandas dataframe\n",
    "query = \"SELECT COUNT(*) FROM francetax;\"\n",
    "result_df = client.query(query)\n",
    "print(result_df)"
   ]
  },
  {
   "cell_type": "code",
   "execution_count": null,
   "metadata": {},
   "outputs": [],
   "source": [
    "#Connect to dataset\n",
    "s3_uri = \"s3://datasharingexamples/nflverse/pbp_2023.parquet\"\n",
    "view_name = \"nfl_pbp\"\n",
    "client.create_view(s3_uri, view_name)"
   ]
  },
  {
   "cell_type": "code",
   "execution_count": null,
   "metadata": {},
   "outputs": [],
   "source": [
    "#Query a view or table and return a pandas dataframe\n",
    "query = \"SELECT COUNT(*) FROM nfl_pbp;\"\n",
    "result_df = client.query(query)\n",
    "print(result_df)"
   ]
  },
  {
   "cell_type": "code",
   "execution_count": null,
   "metadata": {},
   "outputs": [],
   "source": [
    "# Query a view or table and create a duckdb table\n",
    "query = f\"\"\"\n",
    "WITH redzone_drives AS (\n",
    "    SELECT DISTINCT\n",
    "        posteam,\n",
    "        game_id,\n",
    "        drive\n",
    "    FROM \n",
    "        nfl_pbp\n",
    "    WHERE \n",
    "        season = 2023\n",
    "        AND week < 19\n",
    "        AND yardline_100 <= 20\n",
    "        AND play_type NOT IN ('no_play', 'extra_point', 'two_point_attempt')\n",
    "),\n",
    "drive_outcomes AS (\n",
    "    SELECT \n",
    "        rd.posteam,\n",
    "        rd.game_id,\n",
    "        rd.drive,\n",
    "        MAX(CASE WHEN touchdown = 1 THEN 1 ELSE 0 END) as drive_touchdown,\n",
    "        MAX(CASE WHEN field_goal_attempt = 1 AND field_goal_result = 'made' THEN 1 ELSE 0 END) as drive_field_goal\n",
    "    FROM \n",
    "        redzone_drives rd\n",
    "    JOIN \n",
    "        nfl_pbp nfl\n",
    "    ON \n",
    "        rd.posteam = nfl.posteam\n",
    "        AND rd.game_id = nfl.game_id \n",
    "        AND rd.drive = nfl.drive\n",
    "    WHERE \n",
    "        nfl.season = 2023\n",
    "        AND nfl.week < 19\n",
    "        AND nfl.yardline_100 <= 20\n",
    "        AND nfl.play_type NOT IN ('no_play', 'extra_point', 'two_point_attempt')\n",
    "    GROUP BY \n",
    "        rd.posteam, rd.game_id, rd.drive\n",
    ")\n",
    "SELECT \n",
    "    posteam,\n",
    "    COUNT(*) as red_zone_trips,\n",
    "    SUM(drive_touchdown) as touchdowns,\n",
    "    SUM(drive_field_goal) as field_goals,\n",
    "    ROUND(\n",
    "        SUM(drive_touchdown) * 100.0 / NULLIF(COUNT(*), 0),\n",
    "        2\n",
    "    ) as touchdown_percentage\n",
    "FROM \n",
    "    drive_outcomes\n",
    "GROUP BY \n",
    "    posteam\n",
    "ORDER BY \n",
    "    touchdown_percentage DESC;\n",
    "\"\"\"\n",
    "new_table_name = \"red_zone_efficiency_2023_official\"\n",
    "count = client.query(query, new_table_name)"
   ]
  },
  {
   "cell_type": "code",
   "execution_count": null,
   "metadata": {},
   "outputs": [],
   "source": [
    "#Query a view or table and return a pandas dataframe\n",
    "query = \"SELECT * FROM red_zone_efficiency_2023_official;\"\n",
    "result_df = client.query(query)\n",
    "print(result_df)"
   ]
  },
  {
   "cell_type": "code",
   "execution_count": null,
   "metadata": {},
   "outputs": [],
   "source": [
    "# View all tables and views in duckdb\n",
    "tables = client.list_tables()\n",
    "print(tables)"
   ]
  },
  {
   "cell_type": "code",
   "execution_count": null,
   "metadata": {},
   "outputs": [],
   "source": [
    "# Define the S3 URI and local path\n",
    "s3_uri = 's3://datasharingexamples/nflverse/pbp_2023.parquet'\n",
    "local_path = '/home/christianocean/datasharing/data/pbp_2023.parquet'\n",
    "\n",
    "# Download the dataset\n",
    "client.download_dataset(s3_uri, local_path)\n"
   ]
  },
  {
   "cell_type": "code",
   "execution_count": null,
   "metadata": {},
   "outputs": [],
   "source": [
    "#Export a duckdb table as csv or parquet\n",
    "table_names = [\"red_zone_efficiency_2023_official\"]\n",
    "output_dir = \"/home/christianocean/datasharing/data\"\n",
    "\n",
    "# Export the tables to CSV format\n",
    "client.export_tables(table_names, output_dir, \"csv\")#parquet for parquet export"
   ]
  }
 ],
 "metadata": {
  "kernelspec": {
   "display_name": ".venv",
   "language": "python",
   "name": "python3"
  },
  "language_info": {
   "codemirror_mode": {
    "name": "ipython",
    "version": 3
   },
   "file_extension": ".py",
   "mimetype": "text/x-python",
   "name": "python",
   "nbconvert_exporter": "python",
   "pygments_lexer": "ipython3",
   "version": "3.10.12"
  }
 },
 "nbformat": 4,
 "nbformat_minor": 2
}
