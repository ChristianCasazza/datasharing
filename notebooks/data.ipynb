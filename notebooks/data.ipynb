{
 "cells": [
  {
   "cell_type": "code",
   "execution_count": 2,
   "metadata": {},
   "outputs": [],
   "source": [
    "#Set your Imports\n",
    "import os\n",
    "import sys\n",
    "from dotenv import load_dotenv\n",
    "\n",
    "# Load environment variables from the .env file\n",
    "load_dotenv()\n",
    "\n",
    "# Add the project root to sys.path\n",
    "notebook_dir = os.path.dirname(os.path.abspath('data.ipynb'))\n",
    "project_root = os.path.abspath(os.path.join(notebook_dir, '..'))\n",
    "if project_root not in sys.path:\n",
    "    sys.path.append(project_root)\n",
    "\n",
    "from datasharing.datasharing import DataSharingClient"
   ]
  },
  {
   "cell_type": "code",
   "execution_count": 3,
   "metadata": {},
   "outputs": [
    {
     "name": "stdout",
     "output_type": "stream",
     "text": [
      "It's data time!\n",
      "You can query datasets in the \"us-east-1\" region\n"
     ]
    }
   ],
   "source": [
    "#Connect to datasharing client $\n",
    "#duckdbpath=\"path/to/file/nameofyourduckdbfile.duckdb\"\n",
    "#client = DataSharingClient(duckdb_path=duckdbpath)\n",
    "client = DataSharingClient(duckdb_region='us-east-1') #Uncomment if cloest to us=east-1"
   ]
  },
  {
   "cell_type": "code",
   "execution_count": null,
   "metadata": {},
   "outputs": [],
   "source": [
    "# Define the S3 URI and local path\n",
    "s3_uri = 's3://oceandatachallengebucket/public/francetax.parquet'\n",
    "local_path = 'path/on/your/computer/francetax.parquet'\n",
    "\n",
    "# Download the dataset\n",
    "client.download_dataset(s3_uri, local_path)\n"
   ]
  },
  {
   "cell_type": "code",
   "execution_count": 5,
   "metadata": {},
   "outputs": [
    {
     "name": "stdout",
     "output_type": "stream",
     "text": [
      "View francetax created.\n"
     ]
    }
   ],
   "source": [
    "#Connect to dataset\n",
    "s3_uri = \"s3://oceandatachallengebucket/public/francetax.parquet\" #Uncomment this for us-east-1\n",
    "#Change s3_uri to local_path and change the variable when calling the methid if you want to work with local files\n",
    "#s3_uri = \"s3://oceandatachallenges/public/francetax.parquet\"\n",
    "view_name = \"francetax\"\n",
    "client.create_view(s3_uri, view_name)"
   ]
  },
  {
   "cell_type": "code",
   "execution_count": 6,
   "metadata": {},
   "outputs": [],
   "source": [
    "#Run this code if you want to query the view using Ibis expressions\n",
    "francetaxibis = client.ibis_conn.table(\"francetax\")\n",
    "#You can name your Ibis table what you want, but it needs to match what you named your view"
   ]
  },
  {
   "cell_type": "code",
   "execution_count": 7,
   "metadata": {},
   "outputs": [
    {
     "name": "stdout",
     "output_type": "stream",
     "text": [
      "   count_star()\n",
      "0       1528922\n"
     ]
    }
   ],
   "source": [
    "#Query a view or table and return a pandas dataframe\n",
    "query = \"SELECT COUNT(*) FROM francetax;\"\n",
    "result_df = client.query(query)\n",
    "print(result_df)"
   ]
  },
  {
   "cell_type": "code",
   "execution_count": 8,
   "metadata": {},
   "outputs": [
    {
     "name": "stdout",
     "output_type": "stream",
     "text": [
      "1528922\n"
     ]
    }
   ],
   "source": [
    "#Query the view with an Ibis expression\n",
    "#Ibis uses lazy execution, meaning your expression won't compile until you add .execute() at the end  \n",
    "row_count_ibis = francetaxibis.count().execute()\n",
    "\n",
    "print(row_count_ibis)"
   ]
  },
  {
   "cell_type": "code",
   "execution_count": null,
   "metadata": {},
   "outputs": [],
   "source": [
    "# Query a view or table and create a duckdb table\n",
    "query = \"SELECT COUNT(*) FROM francetax;\"\n",
    "new_table_name = \"francerowcount\"\n",
    "\n",
    "# Create a new table from the query\n",
    "client.query(query, new_table_name)"
   ]
  },
  {
   "cell_type": "code",
   "execution_count": null,
   "metadata": {},
   "outputs": [],
   "source": [
    "#Export a duckdb table as csv or parquet\n",
    "table_names = [\"francerowcount\"]\n",
    "output_dir = \"/home/christianocean/datasharing/data\"\n",
    "\n",
    "# Export the tables to CSV format\n",
    "client.export_tables(table_names, output_dir, \"csv\")#parquet for parquet export"
   ]
  }
 ],
 "metadata": {
  "kernelspec": {
   "display_name": ".venv",
   "language": "python",
   "name": "python3"
  },
  "language_info": {
   "codemirror_mode": {
    "name": "ipython",
    "version": 3
   },
   "file_extension": ".py",
   "mimetype": "text/x-python",
   "name": "python",
   "nbconvert_exporter": "python",
   "pygments_lexer": "ipython3",
   "version": "3.10.12"
  }
 },
 "nbformat": 4,
 "nbformat_minor": 2
}
