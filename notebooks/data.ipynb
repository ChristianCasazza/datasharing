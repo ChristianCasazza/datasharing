{
 "cells": [
  {
   "cell_type": "code",
   "execution_count": null,
   "metadata": {},
   "outputs": [],
   "source": [
    "#Set your Imports\n",
    "import os\n",
    "import sys\n",
    "from dotenv import load_dotenv\n",
    "\n",
    "# Load environment variables from the .env file\n",
    "load_dotenv()\n",
    "\n",
    "# Add the project root to sys.path\n",
    "notebook_dir = os.path.dirname(os.path.abspath('data.ipynb'))\n",
    "project_root = os.path.abspath(os.path.join(notebook_dir, '..'))\n",
    "if project_root not in sys.path:\n",
    "    sys.path.append(project_root)\n",
    "\n",
    "from datasharing.datasharing import DataSharingClient"
   ]
  },
  {
   "cell_type": "code",
   "execution_count": null,
   "metadata": {},
   "outputs": [],
   "source": [
    "client = DataSharingClient()"
   ]
  },
  {
   "cell_type": "code",
   "execution_count": null,
   "metadata": {},
   "outputs": [],
   "source": [
    "s3_uri = \"s3://oceandatachallenges/public/francetax.parquet\"\n",
    "view_name = \"francetax\"\n",
    "client.create_view(s3_uri, view_name)"
   ]
  },
  {
   "cell_type": "code",
   "execution_count": null,
   "metadata": {},
   "outputs": [],
   "source": [
    "query = \"SELECT COUNT(*) FROM francetax;\"\n",
    "result_df = client.query_view(query)\n",
    "print(result_df)"
   ]
  },
  {
   "cell_type": "code",
   "execution_count": null,
   "metadata": {},
   "outputs": [],
   "source": [
    "# Confirm the new table has been created\n",
    "tables = client.list_tables()\n",
    "print(tables)"
   ]
  },
  {
   "cell_type": "code",
   "execution_count": null,
   "metadata": {},
   "outputs": [],
   "source": [
    "# Define the query to create a new table from the view\n",
    "query = \"SELECT COUNT(*) FROM francetax;\"\n",
    "new_table_name = \"francerowcount\"\n",
    "\n",
    "# Create a new table from the query\n",
    "client.query_view(query, new_table_name)"
   ]
  },
  {
   "cell_type": "code",
   "execution_count": null,
   "metadata": {},
   "outputs": [],
   "source": [
    "table_names = [\"francerowcount\"]\n",
    "output_dir = \"/home/christianocean/datasharing/data\"\n",
    "\n",
    "# Export the tables to CSV format\n",
    "client.export_tables(table_names, output_dir, \"csv\")#parquet for parquet export\n"
   ]
  },
  {
   "cell_type": "code",
   "execution_count": null,
   "metadata": {},
   "outputs": [],
   "source": [
    "# Define the local file path and the S3 URI\n",
    "local_file_path = '/home/christianocean/datasharing/data/francerowcount.csv'\n",
    "s3_uri = 's3://oceandatachallenges/submissions/yourfirstnameyourlastname/nameoffile.filetype'\n",
    "#s3://oceandatachallenges/submissions/johnsmith/francerowcount.csv\n",
    "# Use the upload_to_s3 method to upload the local file to S3\n",
    "client.upload_to_s3(local_file_path, s3_uri)\n"
   ]
  }
 ],
 "metadata": {
  "kernelspec": {
   "display_name": ".venv",
   "language": "python",
   "name": "python3"
  },
  "language_info": {
   "codemirror_mode": {
    "name": "ipython",
    "version": 3
   },
   "file_extension": ".py",
   "mimetype": "text/x-python",
   "name": "python",
   "nbconvert_exporter": "python",
   "pygments_lexer": "ipython3",
   "version": "3.10.12"
  }
 },
 "nbformat": 4,
 "nbformat_minor": 2
}
